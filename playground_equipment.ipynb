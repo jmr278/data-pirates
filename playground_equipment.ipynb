{
 "cells": [
  {
   "cell_type": "markdown",
   "metadata": {},
   "source": [
    "## The best neighborhood in Pittsburgh by playground equipment\n",
    "\n",
    "This is Eric Anderson's solo portion of the final project.\n",
    "\n",
    "I want to discover which neighborhood in Pittsburgh has the best playgrounds. In order to do so, I will be analyzing [this dataset](https://data.wprdc.org/dataset/playground-equipment) published by the City of Pittsburgh."
   ]
  },
  {
   "cell_type": "code",
   "execution_count": 54,
   "metadata": {},
   "outputs": [
    {
     "data": {
      "text/html": [
       "<div>\n",
       "<style scoped>\n",
       "    .dataframe tbody tr th:only-of-type {\n",
       "        vertical-align: middle;\n",
       "    }\n",
       "\n",
       "    .dataframe tbody tr th {\n",
       "        vertical-align: top;\n",
       "    }\n",
       "\n",
       "    .dataframe thead th {\n",
       "        text-align: right;\n",
       "    }\n",
       "</style>\n",
       "<table border=\"1\" class=\"dataframe\">\n",
       "  <thead>\n",
       "    <tr style=\"text-align: right;\">\n",
       "      <th></th>\n",
       "      <th>id</th>\n",
       "      <th>name</th>\n",
       "      <th>equipment_type</th>\n",
       "      <th>manufacturer</th>\n",
       "      <th>safety_surface_type</th>\n",
       "      <th>ada_accessible</th>\n",
       "      <th>street_number</th>\n",
       "      <th>street</th>\n",
       "      <th>neighborhood</th>\n",
       "      <th>council_district</th>\n",
       "      <th>ward</th>\n",
       "      <th>tract</th>\n",
       "      <th>public_works_division</th>\n",
       "      <th>pli_division</th>\n",
       "      <th>police_zone</th>\n",
       "      <th>fire_zone</th>\n",
       "      <th>latitude</th>\n",
       "      <th>longitude</th>\n",
       "    </tr>\n",
       "  </thead>\n",
       "  <tbody>\n",
       "    <tr>\n",
       "      <th>0</th>\n",
       "      <td>1780722587</td>\n",
       "      <td>Able Long Playground</td>\n",
       "      <td>Play Area 2 to 5</td>\n",
       "      <td>Little Tykes</td>\n",
       "      <td>Pour in Place</td>\n",
       "      <td>f</td>\n",
       "      <td>211.0</td>\n",
       "      <td>Coast Ave</td>\n",
       "      <td>Beechview</td>\n",
       "      <td>4</td>\n",
       "      <td>19</td>\n",
       "      <td>42003192000</td>\n",
       "      <td>5</td>\n",
       "      <td>19</td>\n",
       "      <td>6</td>\n",
       "      <td>4-28</td>\n",
       "      <td>40.408381</td>\n",
       "      <td>-80.028520</td>\n",
       "    </tr>\n",
       "    <tr>\n",
       "      <th>1</th>\n",
       "      <td>702514290</td>\n",
       "      <td>North Ave. Playground</td>\n",
       "      <td>Play Area 2 to 5</td>\n",
       "      <td>Playworld</td>\n",
       "      <td>SofSurfaces</td>\n",
       "      <td>f</td>\n",
       "      <td>377.0</td>\n",
       "      <td>W North Ave</td>\n",
       "      <td>Allegheny Center</td>\n",
       "      <td>1</td>\n",
       "      <td>22</td>\n",
       "      <td>42003562700</td>\n",
       "      <td>1</td>\n",
       "      <td>22</td>\n",
       "      <td>1</td>\n",
       "      <td>1-7</td>\n",
       "      <td>40.454526</td>\n",
       "      <td>-80.010188</td>\n",
       "    </tr>\n",
       "    <tr>\n",
       "      <th>2</th>\n",
       "      <td>1267038491</td>\n",
       "      <td>Vietnam Veteran's Playground</td>\n",
       "      <td>Slide</td>\n",
       "      <td>Little Tykes</td>\n",
       "      <td>SofSurfaces</td>\n",
       "      <td>f</td>\n",
       "      <td>108.0</td>\n",
       "      <td>Panther Hollow Rd</td>\n",
       "      <td>Squirrel Hill South</td>\n",
       "      <td>5</td>\n",
       "      <td>14</td>\n",
       "      <td>42003980500</td>\n",
       "      <td>3</td>\n",
       "      <td>14</td>\n",
       "      <td>4</td>\n",
       "      <td>2-8</td>\n",
       "      <td>40.434185</td>\n",
       "      <td>-79.944323</td>\n",
       "    </tr>\n",
       "    <tr>\n",
       "      <th>3</th>\n",
       "      <td>14898932</td>\n",
       "      <td>Schenley Overlook Playground</td>\n",
       "      <td>Swing 2 Bays</td>\n",
       "      <td>Little Tykes</td>\n",
       "      <td>SofSurfaces</td>\n",
       "      <td>t</td>\n",
       "      <td>NaN</td>\n",
       "      <td>Overlook Dr</td>\n",
       "      <td>Squirrel Hill South</td>\n",
       "      <td>5</td>\n",
       "      <td>14</td>\n",
       "      <td>42003980500</td>\n",
       "      <td>3</td>\n",
       "      <td>14</td>\n",
       "      <td>4</td>\n",
       "      <td>2-8</td>\n",
       "      <td>40.432130</td>\n",
       "      <td>-79.947774</td>\n",
       "    </tr>\n",
       "    <tr>\n",
       "      <th>4</th>\n",
       "      <td>204832406</td>\n",
       "      <td>Schenley Overlook Playground</td>\n",
       "      <td>Slide</td>\n",
       "      <td>Little Tykes</td>\n",
       "      <td>SofSurfaces</td>\n",
       "      <td>f</td>\n",
       "      <td>NaN</td>\n",
       "      <td>Overlook Dr</td>\n",
       "      <td>Squirrel Hill South</td>\n",
       "      <td>5</td>\n",
       "      <td>14</td>\n",
       "      <td>42003980500</td>\n",
       "      <td>3</td>\n",
       "      <td>14</td>\n",
       "      <td>4</td>\n",
       "      <td>2-8</td>\n",
       "      <td>40.432215</td>\n",
       "      <td>-79.947817</td>\n",
       "    </tr>\n",
       "  </tbody>\n",
       "</table>\n",
       "</div>"
      ],
      "text/plain": [
       "           id                          name    equipment_type  manufacturer  \\\n",
       "0  1780722587          Able Long Playground  Play Area 2 to 5  Little Tykes   \n",
       "1   702514290         North Ave. Playground  Play Area 2 to 5     Playworld   \n",
       "2  1267038491  Vietnam Veteran's Playground             Slide  Little Tykes   \n",
       "3    14898932  Schenley Overlook Playground      Swing 2 Bays  Little Tykes   \n",
       "4   204832406  Schenley Overlook Playground             Slide  Little Tykes   \n",
       "\n",
       "  safety_surface_type ada_accessible  street_number             street  \\\n",
       "0       Pour in Place              f          211.0          Coast Ave   \n",
       "1         SofSurfaces              f          377.0        W North Ave   \n",
       "2         SofSurfaces              f          108.0  Panther Hollow Rd   \n",
       "3         SofSurfaces              t            NaN        Overlook Dr   \n",
       "4         SofSurfaces              f            NaN        Overlook Dr   \n",
       "\n",
       "          neighborhood  council_district  ward        tract  \\\n",
       "0            Beechview                 4    19  42003192000   \n",
       "1     Allegheny Center                 1    22  42003562700   \n",
       "2  Squirrel Hill South                 5    14  42003980500   \n",
       "3  Squirrel Hill South                 5    14  42003980500   \n",
       "4  Squirrel Hill South                 5    14  42003980500   \n",
       "\n",
       "   public_works_division  pli_division  police_zone fire_zone   latitude  \\\n",
       "0                      5            19            6      4-28  40.408381   \n",
       "1                      1            22            1       1-7  40.454526   \n",
       "2                      3            14            4       2-8  40.434185   \n",
       "3                      3            14            4       2-8  40.432130   \n",
       "4                      3            14            4       2-8  40.432215   \n",
       "\n",
       "   longitude  \n",
       "0 -80.028520  \n",
       "1 -80.010188  \n",
       "2 -79.944323  \n",
       "3 -79.947774  \n",
       "4 -79.947817  "
      ]
     },
     "execution_count": 54,
     "metadata": {},
     "output_type": "execute_result"
    }
   ],
   "source": [
    "#setting up the dataset with pandas and seeing what a sample of it looks like\n",
    "\n",
    "import pandas as pd\n",
    "import numpy as np\n",
    "import matplotlib.pyplot as plt\n",
    "\n",
    "playground_equipment = pd.read_csv(\"playground_data.csv\")\n",
    "playground_equipment.head()"
   ]
  },
  {
   "cell_type": "code",
   "execution_count": 3,
   "metadata": {},
   "outputs": [
    {
     "name": "stdout",
     "output_type": "stream",
     "text": [
      "Number of playgrounds:\n",
      "neighborhood\n",
      "Allegheny Center       3\n",
      "Allentown              1\n",
      "Banksville             1\n",
      "Bedford Dwellings      1\n",
      "Beechview              5\n",
      "                      ..\n",
      "Upper Lawrenceville    3\n",
      "West End               1\n",
      "West Oakland           1\n",
      "Westwood               1\n",
      "Windgap                1\n",
      "Name: name, Length: 66, dtype: int64\n",
      "\n",
      "Number of pieces of equipment:\n",
      "neighborhood\n",
      "Allegheny Center       15\n",
      "Allentown               4\n",
      "Banksville              6\n",
      "Bedford Dwellings       3\n",
      "Beechview              21\n",
      "                       ..\n",
      "Upper Lawrenceville     5\n",
      "West End                3\n",
      "West Oakland            1\n",
      "Westwood                2\n",
      "Windgap                 5\n",
      "Name: id, Length: 66, dtype: int64\n",
      "\n",
      "Number of ADA accessible pieces of equipment (true = accessible):\n",
      "neighborhood      ada_accessible\n",
      "Allegheny Center  f                 14\n",
      "                  t                  1\n",
      "Allentown         f                  3\n",
      "                  t                  1\n",
      "Banksville        f                  5\n",
      "                                    ..\n",
      "West End          t                  1\n",
      "West Oakland      f                  1\n",
      "Westwood          f                  2\n",
      "Windgap           f                  4\n",
      "                  t                  1\n",
      "Name: ada_accessible, Length: 123, dtype: int64\n",
      "\n",
      "Number of unique pieces of equipment:\n",
      "neighborhood\n",
      "Allegheny Center       11\n",
      "Allentown               4\n",
      "Banksville              6\n",
      "Bedford Dwellings       3\n",
      "Beechview              11\n",
      "                       ..\n",
      "Upper Lawrenceville     3\n",
      "West End                3\n",
      "West Oakland            1\n",
      "Westwood                2\n",
      "Windgap                 4\n",
      "Name: equipment_type, Length: 66, dtype: int64\n"
     ]
    }
   ],
   "source": [
    "#since I want to find the best nieghborhood, I'll group by neighborhood\n",
    "\n",
    "grouped_equipment = playground_equipment.groupby('neighborhood')\n",
    "\n",
    "#Now I can start looking at the different statistics for each neighborhood\n",
    "print(\"Number of playgrounds:\")\n",
    "print(grouped_equipment.name.nunique())\n",
    "\n",
    "print(\"\\nNumber of pieces of equipment:\")\n",
    "print(grouped_equipment.id.count())\n",
    "\n",
    "print(\"\\nNumber of ADA accessible pieces of equipment (true = accessible):\")\n",
    "print(grouped_equipment.ada_accessible.value_counts())\n",
    "\n",
    "print(\"\\nNumber of unique pieces of equipment:\")\n",
    "print(grouped_equipment.equipment_type.nunique())\n"
   ]
  },
  {
   "cell_type": "markdown",
   "metadata": {},
   "source": [
    "## How to rank the neighborhoods\n",
    "\n",
    "I want to give each neighborhood a score between 0 and 1 so that it is easy to combine my rankings with those of my group into one final score. To do this, I will assign different features of the neighborhoods' playgrounds values and sum them. Then, I will normalize the scores to be between 0 and 1.\n",
    "\n",
    "An initial question is whether to adjust the number of playgrounds and amount of equipment for the size of the neighborhood. My answer to this is yes and no. I want neighborhoods to get points for having few playgrounds of higher quality, as well as having many playgrounds of lesser quality. My reasoning here is that both are important. Having good playgrounds and also variety and choice is important. In my personal experience as a child in a small neighborhood we had to drive to the nearest playground anyways, so even if a bigger neighborhood means that you are farther from a playground I don't think it should be counted against the neighborhood. In other words, the more playgrounds, the better.\n",
    "\n",
    "I think I will add up 2 scores to get my final standings. First, the 'quality' metric. For this, I will sum the number of ADA accessible equipment pieces and the number of unique equipment pieces and divide that total by the number of playgrounds. This will give an average quality value for a neighborhood's playgrounds. Then, I will create a 'quantity' metric. This will measure the shear amount of playgrounds and equipment. For this, I will sum the number of playgrounds and the number of equipment pieces in each neighborhood. The number of playgrounds will be multiplied by a constant value to give them more weight compared with the number of equipment pieces. Both metrics, 'quality' and 'quantity', will be added to get the total score for a neighborhood. Because the quality is an average and will be smaller than the quantity metric, I will adjust it by multiplying it by a constant that reflects how important I feel quality is compared to quantity."
   ]
  },
  {
   "cell_type": "code",
   "execution_count": 106,
   "metadata": {},
   "outputs": [
    {
     "name": "stdout",
     "output_type": "stream",
     "text": [
      "[('Squirrel Hill South', 1.0), ('Beechview', 0.59), ('South Side Slopes', 0.564), ('Elliott', 0.549), ('Sheraden', 0.436), ('Highland Park', 0.43), ('Mount Washington', 0.424), ('Beltzhoover', 0.319), ('Hazelwood', 0.314), ('Bloomfield', 0.3), ('Carrick', 0.3), ('Crawford-Roberts', 0.297), ('Brighton Heights', 0.296), ('Lincoln-Lemington-Belmar', 0.296), ('Greenfield', 0.295), ('East Liberty', 0.292), ('Morningside', 0.292), ('Manchester', 0.291), ('Fineview', 0.29), ('South Side Flats', 0.286), ('Allegheny Center', 0.206), ('Garfield', 0.186), ('Troy Hill', 0.184), ('Lincoln Place', 0.176), ('Banksville', 0.175), ('Swisshelm Park', 0.175), ('Regent Square', 0.173), ('South Oakland', 0.172), ('Crafton Heights', 0.171), ('Upper Hill', 0.171), ('Marshall-Shadeland', 0.171), ('Upper Lawrenceville', 0.171), ('Terrace Village', 0.168), ('Oakwood', 0.168), ('Allentown', 0.168), ('Polish Hill', 0.168), ('Homewood West', 0.168), ('Duquesne Heights', 0.168), ('Homewood North', 0.168), ('Windgap', 0.165), ('Perry South', 0.165), ('New Homestead', 0.165), ('Shadyside', 0.165), ('Bedford Dwellings', 0.165), ('Spring Garden', 0.165), ('Stanton Heights', 0.165), ('Central Lawrenceville', 0.165), ('Spring Hill-City View', 0.165), ('Middle Hill', 0.165), ('West End', 0.165), ('Point Breeze North', 0.165), ('Bon Air', 0.165), ('Perry North', 0.164), ('East Carnegie', 0.162), ('Lower Lawrenceville', 0.162), ('Bluff', 0.162), ('Fairywood', 0.161), ('Brookline', 0.055), ('Central Northside', 0.047), ('Hays', 0.045), ('Larimer', 0.045), ('Westwood', 0.042), ('Central Oakland', 0.042), ('Esplen', 0.042), ('West Oakland', 0.039), ('Strip District', 0.039)]\n"
     ]
    }
   ],
   "source": [
    "# creating the dictionary with every neighborhood in the dataset and assigning it a score of 0 to start\n",
    "playground_scores = dict()\n",
    "for neighborhood in playground_equipment.neighborhood.unique():\n",
    "    playground_scores[neighborhood] = 0\n",
    "\n",
    "# setting up the constants\n",
    "num_playgrounds_weight = 2  \n",
    "ada_accessible_weight = 4\n",
    "quality_weight = 10\n",
    "\n",
    "# adding the score for number of unique equipment pieces (quality)\n",
    "for i in range(grouped_equipment.equipment_type.nunique().count()):\n",
    "    playground_scores[grouped_equipment.equipment_type.nunique().index[i]] += grouped_equipment.equipment_type.nunique()[i] / grouped_equipment.id.count()[i]\n",
    "\n",
    "# adding the score for the number of ADA accessible equipment pieces\n",
    "for i in range(grouped_equipment.ada_accessible.value_counts().count()):\n",
    "    if grouped_equipment.ada_accessible.value_counts().index[i][1] == \"t\":\n",
    "        playground_scores[grouped_equipment.ada_accessible.value_counts().index[i][0]] += grouped_equipment.ada_accessible.value_counts()[i] * ada_accessible_weight\n",
    "\n",
    "# weight the quality score\n",
    "for neighborhood in playground_scores:\n",
    "    playground_scores[neighborhood] *= quality_weight\n",
    "        \n",
    "# adding the score for number of pieces of equipment (quantity)\n",
    "for i in range(grouped_equipment.id.count().count()):\n",
    "    playground_scores[grouped_equipment.id.count().index[i]] += grouped_equipment.id.count()[i]\n",
    "\n",
    "# adding the score for number of playgrounds (quantity)\n",
    "for i in range(grouped_equipment.name.nunique().count()):\n",
    "    playground_scores[grouped_equipment.name.nunique().index[i]] += grouped_equipment.name.nunique()[i] * num_playgrounds_weight\n",
    "\n",
    "# normalizing the score to a (0, 1) range\n",
    "max_score = max(playground_scores.values())\n",
    "for neighborhood in playground_scores:\n",
    "    playground_scores[neighborhood] /= max_score\n",
    "    playground_scores[neighborhood] = round(playground_scores[neighborhood], 3)\n",
    "    \n",
    "# sort the scores so we can see what neighborhood won\n",
    "sorted_scores = sorted(playground_scores.items(), key=lambda x: x[1], reverse=True)\n",
    "print(sorted_scores)"
   ]
  },
  {
   "cell_type": "markdown",
   "metadata": {},
   "source": [
    "## Analyzing the results\n",
    "\n",
    "Now that I have calculated my scores for each neighborhood, I can visualize the data and see if any changes need to be made to my scoring algorithm."
   ]
  },
  {
   "cell_type": "code",
   "execution_count": 107,
   "metadata": {},
   "outputs": [
    {
     "data": {
      "image/png": "[encoded data removed]",
      "text/plain": [
       "<Figure size 432x288 with 1 Axes>"
      ]
     },
     "metadata": {
      "needs_background": "light"
     },
     "output_type": "display_data"
    }
   ],
   "source": [
    "data = []\n",
    "labels = []\n",
    "for i in range(10):\n",
    "    labels.append(sorted_scores[i][0][0:10])\n",
    "    data.append(sorted_scores[i][1])\n",
    "\n",
    "plt.bar(labels, data, width=0.5)\n",
    "plt.title(\"The top 10 neighborhoods in Pittsburgh by playground equipment\")\n",
    "plt.xlabel(\"Neighborhood\")\n",
    "plt.ylabel(\"Score\")\n",
    "plt.xticks(rotation=45)\n",
    "plt.show()"
   ]
  },
  {
   "cell_type": "markdown",
   "metadata": {},
   "source": [
    "I also wanted to see how well my scoring system treated different sized neighborhoods. Basically, I wanted to how my scores compared to the scores if a there was no adjustment for quality of playgrounds and no weighting. So, I decided to do another score calculation with only the number of equipment pieces."
   ]
  },
  {
   "cell_type": "code",
   "execution_count": 108,
   "metadata": {},
   "outputs": [
    {
     "name": "stdout",
     "output_type": "stream",
     "text": [
      "[('Squirrel Hill South', 1.0), ('Beechview', 0.625), ('South Side Slopes', 0.625), ('Sheraden', 0.5), ('Highland Park', 0.5), ('Beltzhoover', 0.5), ('Allegheny Center', 0.375), ('Hazelwood', 0.375), ('Mount Washington', 0.375), ('Crawford-Roberts', 0.375), ('Elliott', 0.375), ('Upper Lawrenceville', 0.375), ('South Oakland', 0.375), ('Crafton Heights', 0.25), ('Lincoln Place', 0.25), ('Brookline', 0.25), ('Brighton Heights', 0.25), ('East Liberty', 0.25), ('Central Northside', 0.25), ('Bloomfield', 0.25), ('Lincoln-Lemington-Belmar', 0.25), ('Greenfield', 0.25), ('Marshall-Shadeland', 0.25), ('Morningside', 0.25), ('South Side Flats', 0.25), ('Manchester', 0.25), ('Garfield', 0.25), ('Carrick', 0.25), ('Troy Hill', 0.25), ('Windgap', 0.125), ('Perry South', 0.125), ('Fineview', 0.125), ('Terrace Village', 0.125), ('Oakwood', 0.125), ('New Homestead', 0.125), ('Upper Hill', 0.125), ('Allentown', 0.125), ('Shadyside', 0.125), ('Westwood', 0.125), ('Hays', 0.125), ('Polish Hill', 0.125), ('Central Oakland', 0.125), ('Esplen', 0.125), ('Bedford Dwellings', 0.125), ('West Oakland', 0.125), ('Spring Garden', 0.125), ('Homewood West', 0.125), ('Strip District', 0.125), ('Stanton Heights', 0.125), ('East Carnegie', 0.125), ('Central Lawrenceville', 0.125), ('Lower Lawrenceville', 0.125), ('Spring Hill-City View', 0.125), ('Bluff', 0.125), ('Middle Hill', 0.125), ('Banksville', 0.125), ('West End', 0.125), ('Point Breeze North', 0.125), ('Larimer', 0.125), ('Duquesne Heights', 0.125), ('Homewood North', 0.125), ('Swisshelm Park', 0.125), ('Bon Air', 0.125), ('Regent Square', 0.125), ('Fairywood', 0.125), ('Perry North', 0.125)]\n"
     ]
    }
   ],
   "source": [
    "# creating the dictionary with every neighborhood in the dataset and assigning it a score of 0 to start\n",
    "unweighted_scores = dict()\n",
    "for neighborhood in playground_equipment.neighborhood.unique():\n",
    "    unweighted_scores[neighborhood] = 0\n",
    "\n",
    "# adding the score for number of pieces of equipment (quantity)\n",
    "for i in range(grouped_equipment.name.nunique().count()):\n",
    "    unweighted_scores[grouped_equipment.name.nunique().index[i]] += grouped_equipment.name.nunique()[i]\n",
    "\n",
    "# normalizing the score to a (0, 1) range\n",
    "max_score = max(unweighted_scores.values())\n",
    "for neighborhood in unweighted_scores:\n",
    "    unweighted_scores[neighborhood] /= max_score\n",
    "    unweighted_scores[neighborhood] = round(unweighted_scores[neighborhood], 3)\n",
    "    \n",
    "# sort the scores so we can see what neighborhood won\n",
    "sorted_unweighted = sorted(unweighted_scores.items(), key=lambda x: x[1], reverse=True)\n",
    "print(sorted_unweighted)"
   ]
  },
  {
   "cell_type": "markdown",
   "metadata": {},
   "source": [
    "And now I could compare the two rankings with a bar chart"
   ]
  },
  {
   "cell_type": "code",
   "execution_count": 109,
   "metadata": {},
   "outputs": [
    {
     "data": {
      "image/png": "[encoded data removed]",
      "text/plain": [
       "<Figure size 432x288 with 1 Axes>"
      ]
     },
     "metadata": {
      "needs_background": "light"
     },
     "output_type": "display_data"
    },
    {
     "data": {
      "image/png": "[encoded data removed]",
      "text/plain": [
       "<Figure size 432x288 with 1 Axes>"
      ]
     },
     "metadata": {
      "needs_background": "light"
     },
     "output_type": "display_data"
    }
   ],
   "source": [
    "data = []\n",
    "labels = []\n",
    "for i in range(10):\n",
    "    labels.append(sorted_scores[i][0][0:10])\n",
    "    data.append(sorted_scores[i][1])\n",
    "\n",
    "plt.bar(labels, data, width=0.5)\n",
    "plt.title(\"With quality weighting\")\n",
    "plt.xlabel(\"Neighborhood\")\n",
    "plt.ylabel(\"Score\")\n",
    "plt.xticks(rotation=45)\n",
    "plt.show()\n",
    "\n",
    "data2 = []\n",
    "labels2 = []\n",
    "for i in range(10):\n",
    "    labels2.append(sorted_unweighted[i][0][0:10])\n",
    "    data2.append(sorted_unweighted[i][1])\n",
    "\n",
    "plt.bar(labels2, data2, width=0.5)\n",
    "plt.title(\"Without quality weighting\")\n",
    "plt.xlabel(\"Neighborhood\")\n",
    "plt.ylabel(\"Score\")\n",
    "plt.xticks(rotation=45)\n",
    "\n",
    "plt.show()"
   ]
  },
  {
   "cell_type": "markdown",
   "metadata": {},
   "source": [
    "I found that my weighting didn't have a huge impact on the scores, but that's okay because I wanted to factor both quality and quantity into my scoring. With no weighting the top three spots remained the same, but Elliot drops off the top 10 from the number 4 spot, and the bottom half of the list gets rearranged.\n",
    "# Here is the complete code and visualization I am using to find which Pittsburgh neighborhood has the best playground equipment:"
   ]
  },
  {
   "cell_type": "code",
   "execution_count": 110,
   "metadata": {},
   "outputs": [
    {
     "data": {
      "image/png": "[encoded data removed]",
      "text/plain": [
       "<Figure size 432x288 with 1 Axes>"
      ]
     },
     "metadata": {
      "needs_background": "light"
     },
     "output_type": "display_data"
    },
    {
     "name": "stdout",
     "output_type": "stream",
     "text": [
      "1. Squirrel Hill South - 1.0\n",
      "2. Beechview - 0.643\n",
      "3. Elliott - 0.506\n",
      "4. South Side Slopes - 0.5\n",
      "5. Sheraden - 0.408\n",
      "6. Highland Park - 0.402\n",
      "7. Mount Washington - 0.397\n",
      "8. Beltzhoover - 0.38\n",
      "9. Allegheny Center - 0.365\n",
      "10. Hazelwood - 0.361\n"
     ]
    }
   ],
   "source": [
    "import pandas as pd\n",
    "import numpy as np\n",
    "import matplotlib.pyplot as plt\n",
    "\n",
    "playground_equipment = pd.read_csv(\"playground_data.csv\")\n",
    "playground_equipment.head()\n",
    "\n",
    "grouped_equipment = playground_equipment.groupby('neighborhood')\n",
    "\n",
    "# creating the dictionary with every neighborhood in the dataset and assigning it a score of 0 to start\n",
    "playground_scores = dict()\n",
    "for neighborhood in playground_equipment.neighborhood.unique():\n",
    "    playground_scores[neighborhood] = 0\n",
    "\n",
    "# setting up the constants\n",
    "num_playgrounds_weight = 2  \n",
    "ada_accessible_weight = 4\n",
    "quality_weight = 10\n",
    "\n",
    "# adding the score for number of unique equipment pieces (quality)\n",
    "for i in range(grouped_equipment.equipment_type.nunique().count()):\n",
    "    playground_scores[grouped_equipment.equipment_type.nunique().index[i]] += grouped_equipment.equipment_type.nunique()[i]\n",
    "\n",
    "# adding the score for the number of ADA accessible equipment pieces\n",
    "for i in range(grouped_equipment.ada_accessible.value_counts().count()):\n",
    "    if grouped_equipment.ada_accessible.value_counts().index[i][1] == \"t\":\n",
    "        playground_scores[grouped_equipment.ada_accessible.value_counts().index[i][0]] += grouped_equipment.ada_accessible.value_counts()[i] * ada_accessible_weight\n",
    "\n",
    "# weight the quality score\n",
    "for neighborhood in playground_scores:\n",
    "    playground_scores[neighborhood] *= quality_weight\n",
    "        \n",
    "# adding the score for number of pieces of equipment (quantity)\n",
    "for i in range(grouped_equipment.id.count().count()):\n",
    "    playground_scores[grouped_equipment.id.count().index[i]] += grouped_equipment.id.count()[i]\n",
    "\n",
    "# adding the score for number of playgrounds (quantity)\n",
    "for i in range(grouped_equipment.name.nunique().count()):\n",
    "    playground_scores[grouped_equipment.name.nunique().index[i]] += grouped_equipment.name.nunique()[i] * num_playgrounds_weight\n",
    "\n",
    "# normalizing the score to a (0, 1) range\n",
    "max_score = max(playground_scores.values())\n",
    "for neighborhood in playground_scores:\n",
    "    playground_scores[neighborhood] /= max_score\n",
    "    playground_scores[neighborhood] = round(playground_scores[neighborhood], 3)\n",
    "    \n",
    "# sort the scores so we can see what neighborhood won\n",
    "sorted_scores = sorted(playground_scores.items(), key=lambda x: x[1], reverse=True)\n",
    "\n",
    "data = []\n",
    "labels = []\n",
    "for i in range(10):\n",
    "    labels.append(sorted_scores[i][0][0:10])\n",
    "    data.append(sorted_scores[i][1])\n",
    "\n",
    "plt.bar(labels, data, width=0.5)\n",
    "plt.title(\"The top 10 neighborhoods in Pittsburgh by playground equipment\")\n",
    "plt.xlabel(\"Neighborhood\")\n",
    "plt.ylabel(\"Score\")\n",
    "plt.xticks(rotation=45)\n",
    "plt.show()\n",
    "\n",
    "for i in range(10):\n",
    "    print(str(i + 1) + \". \" + sorted_scores[i][0] + \" - \" + str(sorted_scores[i][1]))"
   ]
  },
  {
   "cell_type": "markdown",
   "metadata": {},
   "source": [
    "## Conclusion\n",
    "Squirrel Hill South is the best neighborhood for playground equipment by a substantial margin. A cursory look at Squirrel Hill Park's Wikipedia page shows that it is the nieghborhood that most of Schenley Park is technically part of, so it makes sense that Squirrel Hill would have a high ranking."
   ]
  },
  {
   "cell_type": "code",
   "execution_count": null,
   "metadata": {},
   "outputs": [],
   "source": []
  }
 ],
 "metadata": {
  "kernelspec": {
   "display_name": "Python 3",
   "language": "python",
   "name": "python3"
  },
  "language_info": {
   "codemirror_mode": {
    "name": "ipython",
    "version": 3
   },
   "file_extension": ".py",
   "mimetype": "text/x-python",
   "name": "python",
   "nbconvert_exporter": "python",
   "pygments_lexer": "ipython3",
   "version": "3.8.3"
  }
 },
 "nbformat": 4,
 "nbformat_minor": 4
}
